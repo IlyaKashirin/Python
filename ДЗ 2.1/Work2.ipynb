{
 "cells": [
  {
   "cell_type": "code",
   "execution_count": 15,
   "id": "fcfa7f73",
   "metadata": {},
   "outputs": [
    {
     "name": "stdout",
     "output_type": "stream",
     "text": [
      "Идеальные пары: \n",
      "Alex и Emma\n",
      "Arthur и Kate\n",
      "John и Kira\n",
      "Peter и Liza\n",
      "Richard и Trisha\n"
     ]
    }
   ],
   "source": [
    "boys = ['Peter', 'Alex', 'John', 'Arthur', 'Richard'] \n",
    "girls = ['Kate', 'Liza', 'Kira', 'Emma', 'Trisha'] \n",
    "boys = sorted(boys)\n",
    "girls = sorted(girls)\n",
    "i = 0\n",
    "if len(boys) == len(girls):\n",
    "    print(\"Идеальные пары: \")\n",
    "    for name in boys:\n",
    "        print(f\"{name} и {girls[i]}\")\n",
    "        i += 1\n",
    "else:\n",
    "    print(\"Внимание! Кто-то может остаться без пары.\")"
   ]
  },
  {
   "cell_type": "code",
   "execution_count": null,
   "id": "d30d34a5",
   "metadata": {},
   "outputs": [],
   "source": []
  }
 ],
 "metadata": {
  "kernelspec": {
   "display_name": "Python 3 (ipykernel)",
   "language": "python",
   "name": "python3"
  },
  "language_info": {
   "codemirror_mode": {
    "name": "ipython",
    "version": 3
   },
   "file_extension": ".py",
   "mimetype": "text/x-python",
   "name": "python",
   "nbconvert_exporter": "python",
   "pygments_lexer": "ipython3",
   "version": "3.11.5"
  }
 },
 "nbformat": 4,
 "nbformat_minor": 5
}
